{
 "cells": [
  {
   "cell_type": "markdown",
   "id": "aa291475",
   "metadata": {},
   "source": [
    "# Initial Data Analysis\n",
    "This notebook loads the raw CSV files and performs some basic exploration using PySpark."
   ]
  },
  {
   "cell_type": "code",
   "execution_count": null,
   "id": "145b6de9",
   "metadata": {},
   "outputs": [],
   "source": [
    "\n",
    "from pyspark.sql import SparkSession\n",
    "spark = SparkSession.builder.getOrCreate()\n"
   ]
  },
  {
   "cell_type": "code",
   "execution_count": null,
   "id": "973f46b9",
   "metadata": {},
   "outputs": [],
   "source": [
    "\n",
    "# Load raw CSV files\n",
    "raw_path = '../dados'\n",
    "customers = spark.read.option('header', True).csv(f\"{raw_path}/customers.csv\")\n",
    "offers = spark.read.option('header', True).csv(f\"{raw_path}/offers.csv\")\n",
    "events = spark.read.option('header', True).csv(f\"{raw_path}/events.csv\")\n"
   ]
  },
  {
   "cell_type": "code",
   "execution_count": null,
   "id": "4cee6ffd",
   "metadata": {},
   "outputs": [],
   "source": [
    "\n",
    "print('Customers count:', customers.count())\n",
    "print('Offers count:', offers.count())\n",
    "print('Events count:', events.count())\n"
   ]
  },
  {
   "cell_type": "code",
   "execution_count": null,
   "id": "42b6a9d5",
   "metadata": {},
   "outputs": [],
   "source": [
    "\n",
    "customers.printSchema()\n",
    "offers.printSchema()\n",
    "events.printSchema()\n"
   ]
  },
  {
   "cell_type": "code",
   "execution_count": null,
   "id": "2bce40c1",
   "metadata": {},
   "outputs": [],
   "source": [
    "\n",
    "customers.show(5)\n",
    "offers.show(5)\n",
    "events.show(5)\n"
   ]
  }
 ],
 "metadata": {},
 "nbformat": 4,
 "nbformat_minor": 5
}
